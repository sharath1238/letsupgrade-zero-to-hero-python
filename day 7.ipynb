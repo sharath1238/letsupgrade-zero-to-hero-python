{
 "cells": [
  {
   "cell_type": "code",
   "execution_count": 1,
   "metadata": {},
   "outputs": [
    {
     "name": "stdout",
     "output_type": "stream",
     "text": [
      "Original dictionary is : \n",
      "{'A': 67, 'B': 23, 'C': 45, 'D': 56, 'E': 12, 'F': 69, 'G': 67, 'H': 23}\n",
      "\n",
      "Dictionary after swapping is :  \n",
      "keys: values\n",
      "67  :   G\n",
      "23  :   H\n",
      "45  :   C\n",
      "56  :   D\n",
      "12  :   E\n",
      "69  :   F\n"
     ]
    }
   ],
   "source": [
    "old_dict = {'A': 67, 'B': 23, 'C': 45, 'D': 56, 'E': 12, 'F': 69, 'G': 67, 'H': 23} \n",
    "  \n",
    "new_dict = dict([(value, key) for key, value in old_dict.items()]) \n",
    "    \n",
    "# Printing original dictionary  \n",
    "print (\"Original dictionary is : \") \n",
    "print(old_dict)  \n",
    "  \n",
    "print() \n",
    "  \n",
    "# Printing new dictionary after swapping keys and values \n",
    "print (\"Dictionary after swapping is :  \")  \n",
    "print(\"keys: values\") \n",
    "for i in new_dict: \n",
    "    print(i, \" :  \", new_dict[i]) "
   ]
  },
  {
   "cell_type": "code",
   "execution_count": null,
   "metadata": {},
   "outputs": [],
   "source": []
  }
 ],
 "metadata": {
  "kernelspec": {
   "display_name": "Python 3",
   "language": "python",
   "name": "python3"
  },
  "language_info": {
   "codemirror_mode": {
    "name": "ipython",
    "version": 3
   },
   "file_extension": ".py",
   "mimetype": "text/x-python",
   "name": "python",
   "nbconvert_exporter": "python",
   "pygments_lexer": "ipython3",
   "version": "3.7.1"
  }
 },
 "nbformat": 4,
 "nbformat_minor": 2
}
