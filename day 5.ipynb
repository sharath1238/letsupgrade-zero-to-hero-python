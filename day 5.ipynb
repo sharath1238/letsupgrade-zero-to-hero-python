{
 "cells": [
  {
   "cell_type": "markdown",
   "metadata": {},
   "source": [
    "# [0,1,2,10,4,1,0,56,2,0,1,3,0,56,0,1]\n",
    "## sort by the increasing order all the zero should be in right"
   ]
  },
  {
   "cell_type": "code",
   "execution_count": 2,
   "metadata": {},
   "outputs": [
    {
     "name": "stdout",
     "output_type": "stream",
     "text": [
      "Array after pushing all zeros to end of array:\n",
      "[1, 2, 10, 4, 1, 56, 2, 1, 3, 56, 1, 0, 0, 0, 0, 0]\n"
     ]
    }
   ],
   "source": [
    "def pushZerosToEnd(arr, n): \n",
    "    count = 0 # Count of non-zero elements \n",
    "      \n",
    "    # Traverse the array. If element  \n",
    "    # encountered is non-zero, then \n",
    "    # replace the element at index \n",
    "    # 'count' with this element \n",
    "    for i in range(n): \n",
    "        if arr[i] != 0: \n",
    "              \n",
    "            # here count is incremented \n",
    "            arr[count] = arr[i] \n",
    "            count+=1\n",
    "      \n",
    "    # Now all non-zero elements have been \n",
    "    # shifted to front and 'count' is set \n",
    "    # as index of first 0. Make all  \n",
    "    # elements 0 from count to end. \n",
    "    while count < n: \n",
    "        arr[count] = 0\n",
    "        count += 1\n",
    "          \n",
    "# Driver code \n",
    "arr = [0,1,2,10,4,1,0,56,2,0,1,3,0,56,0,1] \n",
    "n = len(arr) \n",
    "pushZerosToEnd(arr, n) \n",
    "print(\"Array after pushing all zeros to end of array:\") \n",
    "print(arr) \n",
    "  \n",
    "# This code is contributed by \"Abhishek Sharma 44\" "
   ]
  },
  {
   "cell_type": "code",
   "execution_count": 3,
   "metadata": {},
   "outputs": [
    {
     "ename": "SyntaxError",
     "evalue": "Missing parentheses in call to 'print'. Did you mean print(num)? (<ipython-input-3-b15833b0a29f>, line 19)",
     "output_type": "error",
     "traceback": [
      "\u001b[1;36m  File \u001b[1;32m\"<ipython-input-3-b15833b0a29f>\"\u001b[1;36m, line \u001b[1;32m19\u001b[0m\n\u001b[1;33m    print num\u001b[0m\n\u001b[1;37m            ^\u001b[0m\n\u001b[1;31mSyntaxError\u001b[0m\u001b[1;31m:\u001b[0m Missing parentheses in call to 'print'. Did you mean print(num)?\n"
     ]
    }
   ],
   "source": [
    "list1 = [10,20,40,60,70]\n",
    "list2 = [5,15,25,35,45,60]\n",
    "tlist = []\n",
    "n1 = len(list1)\n",
    "n2 = len(list2)\n",
    "n3 = n1 + n2\n",
    "n4 = len(list2) - 1\n",
    "n5 = len(list1) - 1\n",
    "i = 1\n",
    "c = 0\n",
    "while i in range(0, n3):\n",
    "    tlist.insert(i, list1[c])\n",
    "    tlist.insert(i, list2[c])    \n",
    "    c += 1\n",
    "    i += 2\n",
    "tlist.extend(list2[n4:])\n",
    "tlist.extend(list1[n5:])\n",
    "for num in tlist:\n",
    "    print num"
   ]
  },
  {
   "cell_type": "code",
   "execution_count": null,
   "metadata": {},
   "outputs": [],
   "source": []
  },
  {
   "cell_type": "code",
   "execution_count": null,
   "metadata": {},
   "outputs": [],
   "source": []
  },
  {
   "cell_type": "code",
   "execution_count": null,
   "metadata": {},
   "outputs": [],
   "source": []
  },
  {
   "cell_type": "code",
   "execution_count": null,
   "metadata": {},
   "outputs": [],
   "source": []
  },
  {
   "cell_type": "code",
   "execution_count": null,
   "metadata": {},
   "outputs": [],
   "source": []
  },
  {
   "cell_type": "code",
   "execution_count": null,
   "metadata": {},
   "outputs": [],
   "source": []
  },
  {
   "cell_type": "code",
   "execution_count": null,
   "metadata": {},
   "outputs": [],
   "source": []
  },
  {
   "cell_type": "code",
   "execution_count": null,
   "metadata": {},
   "outputs": [],
   "source": []
  }
 ],
 "metadata": {
  "kernelspec": {
   "display_name": "Python 3",
   "language": "python",
   "name": "python3"
  },
  "language_info": {
   "codemirror_mode": {
    "name": "ipython",
    "version": 3
   },
   "file_extension": ".py",
   "mimetype": "text/x-python",
   "name": "python",
   "nbconvert_exporter": "python",
   "pygments_lexer": "ipython3",
   "version": "3.7.1"
  }
 },
 "nbformat": 4,
 "nbformat_minor": 2
}
